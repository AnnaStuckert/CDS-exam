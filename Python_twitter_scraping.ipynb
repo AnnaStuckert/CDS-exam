{
 "cells": [
  {
   "cell_type": "markdown",
   "metadata": {},
   "source": [
    "Getting started "
   ]
  },
  {
   "cell_type": "code",
   "execution_count": 1,
   "metadata": {},
   "outputs": [
    {
     "name": "stdout",
     "output_type": "stream",
     "text": [
      "Requirement already satisfied: tweepy in c:\\users\\askes\\anaconda3\\lib\\site-packages (3.9.0)\n",
      "Requirement already satisfied: requests-oauthlib>=0.7.0 in c:\\users\\askes\\anaconda3\\lib\\site-packages (from tweepy) (1.3.0)\n",
      "Requirement already satisfied: requests[socks]>=2.11.1 in c:\\users\\askes\\anaconda3\\lib\\site-packages (from tweepy) (2.24.0)\n",
      "Requirement already satisfied: six>=1.10.0 in c:\\users\\askes\\anaconda3\\lib\\site-packages (from tweepy) (1.15.0)\n",
      "Requirement already satisfied: oauthlib>=3.0.0 in c:\\users\\askes\\anaconda3\\lib\\site-packages (from requests-oauthlib>=0.7.0->tweepy) (3.1.0)\n",
      "Requirement already satisfied: certifi>=2017.4.17 in c:\\users\\askes\\anaconda3\\lib\\site-packages (from requests[socks]>=2.11.1->tweepy) (2020.6.20)\n",
      "Requirement already satisfied: urllib3!=1.25.0,!=1.25.1,<1.26,>=1.21.1 in c:\\users\\askes\\anaconda3\\lib\\site-packages (from requests[socks]>=2.11.1->tweepy) (1.25.9)\n",
      "Requirement already satisfied: chardet<4,>=3.0.2 in c:\\users\\askes\\anaconda3\\lib\\site-packages (from requests[socks]>=2.11.1->tweepy) (3.0.4)\n",
      "Requirement already satisfied: idna<3,>=2.5 in c:\\users\\askes\\anaconda3\\lib\\site-packages (from requests[socks]>=2.11.1->tweepy) (2.10)\n",
      "Requirement already satisfied: PySocks!=1.5.7,>=1.5.6; extra == \"socks\" in c:\\users\\askes\\anaconda3\\lib\\site-packages (from requests[socks]>=2.11.1->tweepy) (1.7.1)\n",
      "Note: you may need to restart the kernel to use updated packages.\n"
     ]
    }
   ],
   "source": [
    "pip install tweepy"
   ]
  },
  {
   "cell_type": "markdown",
   "metadata": {},
   "source": [
    "Import packages and set up connection to the twitter API to enable scraping"
   ]
  },
  {
   "cell_type": "code",
   "execution_count": 2,
   "metadata": {},
   "outputs": [],
   "source": [
    "# Import packages\n",
    "import tweepy\n",
    "import pandas as pd\n",
    "\n",
    "# Define keys to twitter app\n",
    "consumer_key = \"oUOjpusSQH8I395cXZlHhMZCC\"\n",
    "consumer_secret = \"b8CppM7zs5VF9UltCJRp53DTdXvsE5CjJrT8h4qJTSBCEm0ooQ\"\n",
    "access_token = \"1063345568272064512-76vbcHPYETcwI2Iiwtjtw2qtMkwDb3\"\n",
    "access_token_secret = \"DpGXegPCf8wfDaxHPJFHMyJPWKJFUctFeJZNJOSsuJr1U\" \n",
    "\n",
    "# authorization of consumer key and consumer secret\n",
    "auth = tweepy.OAuthHandler(consumer_key, consumer_secret)\n",
    "\n",
    "# set access to user's access key and access secret\n",
    "auth.set_access_token(access_token, access_token_secret)\n",
    "\n",
    "# calling the api \n",
    "api = tweepy.API(auth, wait_on_rate_limit=True)\n"
   ]
  },
  {
   "cell_type": "markdown",
   "metadata": {},
   "source": [
    "Scrape tweets from just Trump's twitter"
   ]
  },
  {
   "cell_type": "code",
   "execution_count": 3,
   "metadata": {},
   "outputs": [
    {
     "name": "stdout",
     "output_type": "stream",
     "text": [
      "200\n"
     ]
    }
   ],
   "source": [
    "# define pandas with information\n",
    "Columns = ['tweet','date','id', 'handle']           \n",
    "DATA_Trump = pd.DataFrame(columns = Columns)\n",
    "\n",
    "# screen name of the account to be scraped\n",
    "screen_name = \"realDonaldTrump\"\n",
    "  \n",
    "# number of tweets to be scraped \n",
    "Tweets = 1000\n",
    "\n",
    "# Loop over different 'twitter pages'\n",
    "Page = 1\n",
    "while True:\n",
    "    statuses = api.user_timeline(screen_name, count = Tweets, page = Page)\n",
    "    if statuses:\n",
    "        for status in statuses:\n",
    "            tweet = status.text\n",
    "            date = status.created_at\n",
    "            ID = status.id\n",
    "            \n",
    "            DATA_Trump = DATA_Trump.append({\n",
    "                'tweet': tweet,\n",
    "                'date': date,\n",
    "                'id': ID,\n",
    "                'handle': screen_name\n",
    "            }, ignore_index=True) \n",
    "         \n",
    "    else:\n",
    "        # All done\n",
    "        break\n",
    "    Page += 1  # next page\n",
    "\n",
    "print(len(DATA_Trump))\n",
    "\n",
    "DATA_Trump.to_csv(\"Trump_Only.csv\")"
   ]
  },
  {
   "cell_type": "markdown",
   "metadata": {},
   "source": [
    "Scrape from only Biden's twitter"
   ]
  },
  {
   "cell_type": "code",
   "execution_count": 4,
   "metadata": {},
   "outputs": [
    {
     "name": "stdout",
     "output_type": "stream",
     "text": [
      "3220\n"
     ]
    }
   ],
   "source": [
    "# define pandas with information\n",
    "Columns = ['tweet','date','id', 'handle']   \n",
    "DATA_Biden = pd.DataFrame(columns = Columns)\n",
    "\n",
    "# screen name of the account to be scraped\n",
    "screen_name = \"JoeBiden\"\n",
    "  \n",
    "# number of tweets to be scraped \n",
    "Tweets = 1000\n",
    "\n",
    "# Loop over different 'twitter pages'\n",
    "Page = 1\n",
    "while True:\n",
    "    statuses = api.user_timeline(screen_name, count = Tweets, page = Page)\n",
    "    if statuses:\n",
    "        for status in statuses:\n",
    "            tweet = status.text\n",
    "            date = status.created_at\n",
    "            ID = status.id\n",
    "            \n",
    "            DATA_Biden = DATA_Biden.append({\n",
    "                'tweet': tweet,\n",
    "                'date': date,\n",
    "                'id': ID,\n",
    "                'handle': screen_name\n",
    "            }, ignore_index=True) \n",
    "         \n",
    "    else:\n",
    "        # All done\n",
    "        break\n",
    "    Page += 1  # next page\n",
    "\n",
    "print(len(DATA_Biden))\n",
    "\n",
    "DATA_Biden.to_csv(\"Biden_Only.csv\")"
   ]
  },
  {
   "cell_type": "markdown",
   "metadata": {},
   "source": [
    "SCRAPING FROM FOLLOWERS OF THE PRESIDENTIAL CANDIDATES\n",
    "\n",
    "Scraping twitter ID's from Trump's followers"
   ]
  },
  {
   "cell_type": "code",
   "execution_count": 5,
   "metadata": {},
   "outputs": [
    {
     "name": "stdout",
     "output_type": "stream",
     "text": [
      "['MajidEmami12', 'ow7626', 'srn_ex', 'patcasanova', 'CiaranFalvey', 'CathiaMi', 'AcuffNancy', 'MHafeez88561466', 'amykschubert', 'Mirosla37458042', 'BigCyphs420', 'JoshElford', 'lenamathilde2', 'rashasami_', 'MannistoSami', 'fm0334', 'Puscre3', 'mariema76321946', 'Michell16206002', 'Fionanash1', 'BlakFreedom97', 'Footbal54666110', 'kimutacos', 'MusfiqMaruf1', 'ItBenuvl788', 'Brandon90887880', 'MarySco74935190', 'tca7456', 'nwoye_izuchukwu', 'siydal31', '406_patriot', 'Sueburke2912', 'Wanessa66008884', 'jayseidler', 't1wbMY2ixWywVlx', 'Hmidrzashahbazi', 'Shahzad94563539', 'Daisy88827097', 'FrancisTong8', 'Andrewsucksatl1', 'saudicinemax', 'congngu81473391', 'Yusri35175411', 'antwoni_davis', 'WalterSchnrige1', 'Hshs06774967', 'slowpok76949019', 'Haruto20534449', 'rahel22171316', 'ben83590382', 'tobiasmorato', 'ZakGallegos', 'BGerstad', 'coffeerocket321', 'BartonKarlo', 'AdemYorulmazz', 'UAEUAE92138971', 'Weldream1', 'Cornandon1', 'LGe7afcsOR73NLH', 'O_Geurts', 'Marcoragusa8', 'oscarmuindi5', 'BreckenridgeThe', 'mimitiger8', 'JesseGo30257791', 'MagablehAseel', 'LuisRiv13473401', 'JuanMeziat', 'kaulah10', 'Schnyde81512456', 'g8LYDoXW1fe42xj', 'sualem10', 'marymar50490013', 'Tiddykuddy', 'HunterMcAliste8', 'JimmyAnang', 'IgnatDanilevich', 'DLarminier', '1czvi', 'Kimberl92527243', 'MohamadaminSar4', 'Gail82303634', 'MosesBl27847391', 'AHN28699880', 're_vakde', 'takahashi_1190', 'lawando2002', 'juapoc', 'mysterybxrrzd', 'renewedone', 'Dada240031537', 'roehles', 'EspagnolGe', 'yadavmaheshbm', 'swaity', 'Renal69474967', 'DrBerndHoffman', 'Tessvl30', 'JacoboH03791773', 'sudhans58797183', 'AbuAzumi', 'AislingMckey', 'rudoman1', 'TMFD15', 'TomStev65035235', 'federicanazzar3', 'jhg58009277', 'JatinRangwani', 'daniel_g68', '_ngocng', 'BishalS51341578', 'deanblood1', 'AnatolienHamit', 'louaimajeed', 'Aminou83883082', 'dejavu376', 'HannahA41306008', 'mshary_48', 'MoralLou', 'JohanaE76318105', 'DawnDazellBGCS', 'dgcreative9', 'Kurdiyati', 'RABeav', 'AserSepharad', 'giannalupo5', 'Alexand39370445', 'DolbyKathy', 'MariNar57909148', 'kasiajxson', 'selenopila_bh', 'numerusclausus0', 'heironymous2', 'Elysia68493158', 'Rebecca94398817', 'lisahulda', 'jjjjjjj20274371', 'DigitalLobo', 'vanessajac', 'Maxmoore_12', 'PassForward1', 'alexthepuffin', 'Fatemeh68800761', 'JayJakole', 'BogdanEbonie', 'johnwouters2', 'Mayito94138850', 'Happierang', 'TonyBoccignone', '_WillHensel', 'y0os5', 'mercedes1382', 'Julia84551486', 'HondoKeith', 'paolo251068', 'morelsophie7', 'WaveAnni', 'david_lythe', 'TrngVnhPh2', 'q2st6yDzymcpP7g', 'EricProvost20', 'deuxchasse', 'TrumpForever_5', 'BChinpo', 'ShivamY55947467', 'Patrick59075518', 'IA33434975', 'Smilka8', 'Johdob07', 'mCG2wGhrbK75vTF', 'Buzzer83831219', 'SeanM14650588', 'ALIMHAN70311551', 'CoolBre53939969', 'ssk1998ssk', 'BaqiBouqa', 'Ed_Oliveira55', 'Jacek83525140', 'vrodino83', 'judokiid', 'Phillies_1984', 'AllSmilesFD', 'Bill49754834', 'Karthik65951203', 'TaylorS22456994', 'KalbEllie', 'dYBGVUyynDoG4Op', 'justin60812938', 'DagmarBFleming', 'wendysimm6', 'BeninJuliana', 'HelloKi05678247', 'DianatiFereshte', 'ANareseiah', 'Harp_Daddy', 'OwenMiner2', '6fa6e8dd24a388', 'Schuch10', 'Einarsson17', 'Jozie84457545', 'lucybull77', 'AyazenR', 'psycho36292986', 'DolbySport', 'JohnEdw47253238', 'PierreVerville6', 'iron_matej', 'KKanner', 'miss_aamna', 'rperry450', 'bling_two', 'ChrisCarlone4', 'theresacraven99', 'Evilfuny', 'dhanya_vijay', 'gmccarvell', 'Tanya05618991', 'ANKITKU35213101', 'golfer982999', 'tidartu', 'MaUrO77th', 'kkkkksss14', 'GUERREROPAREDES', 'Courtne51631719', 'KemiloVII', 'Rodrigo51522191', 'Daniel_Shinken', 'Delakruz86', 'BunguShopBoys', 'rrw_5x', 'Jerry48200394', 'BahramRamina', 'Dalo884', 'JeremiahMcnei15', 'BarrySalieu3', 'GraeberPierre', 'shadowxcollins', 'mnamdopicixd', 'bcole20816157', 'ngNguyn22133732', 'KalenskyPepe', 'freebirdSCZ', 'GlenTracey10', 'AntoniosDais', 'maneli0na', 'zhouxianxur', 'groovy079', 'awadhbinmeshar', 'ZcNWtp9Gzlra6df', 'joschavdlinden', 'NotJariuss', 'MaryS69475135', 'TheRealKIng2356', 'lesliesyun', 'LAMorga16817942', 'MyEdoSan', 'RayTang6', 'shadi63131025', 'YG80805504', 'MOHAMMA53920715', 'TayebEssakhi1', 'Pof_Use', 'JadaCoker3', 'sergio81014327', 'Jackie95342435', 'mBeKcg39FqU8oXv', 'GBundoo', 'ant_cyn', 'nima_rezayi', 'Renyunling', 'Juergen_Neeser', 'Teeasshehe', 'feliciebonneau', 'turnover1624', 'LauraDa91319521', 'siltarantola', 'aryaa32_', 'Anh01086562', 'zccmyn11', 'Mariam25905532', 'SannikkaS', 'WesleyH56875488', 'DeanneMsimpson1', 'Brittan43419487', 'SandroyP', 'zoomiejim', 'zachtarnhamn', 'zxFE1kxmlb4mdZa', 'Termarpin', 'Sparklyglitte19', 'MarielisPulido', 'XuanHoang3', 'CarmenServan3', 'Roxana23844779', 'PetkovGligor', 'TeamMG9', 'Thehandofperon', 'A140606', 'MatthewMichna', 'TheLatinGirl80', '1175lVqJkW6EWnS', 'BobMora88124579', 'ahahn_djm', 'DavidPsalm271', 'Gabriel84452137', 'JSchmid97131306', 'bebevalencia04', 'lwil1962', 'MarleneLacoste', 'JuanVil89769816', 'pthus1', 'EricBastos61', 'Gabriel93739566', 'CarmenJqt', 'lvaroMascarenh1', 'merunton', 'QunhNhm6', 'ccdm0530', 'Aga82253835', 'TylerKLe2', 'Markus19696', 'TamarJo75604046', 'DanielMNguyen', 'a_r_m_1_1', 'SyedSujeel6', 'Scott24212805', 'IvanJANKOVI13', 'Emmanuelight1', 'bisikletliikiz', 'adrj007', 'VernorLee', 'HeifaraMurat', 'rik27662835', 'caSEiEnPqXE0v5e', 'FlaschkeIsaiah', 'Mir_ADS', 'Leyla61837789', 'wgrazrr', 'saeedjj', 'bell2_fiona', 'OlabodeOgunmade', 'eyan_greenleaf', 'Talent1977', 'BillWoodsjr1', 'jessica_keasey', 'AaronAho9', 'noname903769402', 'realJohnWilke', 'zouizoui32', 'oliviacosper1', 'WoolhouseSackey', 'cole_disabato', 'Leo1022611562', 'BlueFrog43', 'Mohamed79135720', 'HiepNgu50338278', 'debbie42543227', 'SamiFlaquito', 'aleinadbra', 'Tambo287', 'TrongChung3', 'KohlantaHumour', 'KQ531', 'JANNIE30495646', 'Deborah46009509', 'Meera76103384', 'Riagom', 'DavidDu14656626', 'hosimohebbi', 'Kenbishi50', 'Ibrahim05231484', '42SIMvQx35Bd6KA', 'ismaelferreira_', 'HildersonMaxine', 'N5lLQEOvzDKo7Zd', 'moli36901944', 'kat97221966', 'h_alt7', '50kFusion', '2EzQyy9WqTV5Yeu', 'mrsteveno', 'vici_1204', '25JLT', 'ConorFa23867933', 'sunev3181', 'neenaparikh20', 'Tom40798403', 'LeinadSmyer', 'vt16112326', 'DemocratMaddog', 'DarquyB', 'GenslerAva', 'q0rDvWht2B1ye2B', 'mrlitonmollah', 'Justin52046227', 'RaazMai', 'ix4_2', 'branden60880967', 'narutimetsoccer', 'Giff19594229', 'MelMel72310936', 'ArleteMarcia', 'Obura4', 'breadeugenie7', 'Lureb7', 'BeaufordDibs', 'sean45335326', 'anthony91068476', 'leonard70580474', 'CorJandeJong', 'almrkhald9', 'mingi_aka', 'MissSDlewis', 'JeremyWilcox', 'ramr0d91', 'trublond_4ever', 'bobg83', 'fmalik513', 'ARich8588', 'DimLKim1', 'Mcblallers', 'AdeleScholte', 'juricotchas2016', 'kampestrini', 'torerik78', 'teddybrownwater', 'LongTra33921909', 'SkyMoon46948771', 'Jknowles03Julie', 'Marlene61383961', 'Moscoplanet1', 'Gman0422', 'DonnaHansn', 'mstina1968', 'COCOGREENQUEEN', 'hfh1949', 'CodyVeentje', 'AllisonPidgeon', 'AmaHalktan', 'SHAA1979', 'lizandromiran12', 'DaemonHeretic', 'Klaudia05239220', 'likehuh1', 'elo_alem15', 'madoorinarsimha', 'Prola14560119', 'umdatboston', 'DonnaBl27291128', 'francotravesti', 'Rodrigo04727733', 'gh20582696', 'PSaljooghi', 'Harley67433929', 'eu9y87EjiNrzatY', 'chip_llc', 'lovey89386077', 'MaewanMarwan1', 'kristinworthin2', 'atamaru_T', 'eilish_harry', 'ialanoudiii', 'LouVa61134893', '_callmeliviaaa', 'V_Shap', 'ramikhalyleh', 'Max67895811', 'jordanf90205681', 'Jo_thw', 'HYW_yw', 'MediaroidWeb', 'Stefan258064180', 'd_spielz', 'MogReturns', 'RemingSteven', 'javisince85', 'Lerato32540893', 'Andreas39718420', 'jaylamom', 'nico_foti', 'Kaiden14770700', 'SicignanoJoe', 'WyattKilgore5', 'melonenpaul44', 'L_aucha', 'Jaquelinemk3', 'TeeAmber4', 'ashmannino', 'DevonKuan', 'AlondraMorenoV4', 'purifiedv2', 'CoO_s_W', 'KessMiles', 'binhotimao2012', 'Lasse40354295', 'BendixBoss', 'lakinw210', 'CosmeticKennedy', 'MaryHob47987694', 'EwhMartini', 'DucoPaolo', 'kanzo52695726', 'skindarayaz3', 'brooke_lynn501', 'Fred34401570', 'SajjadH77993836', 'hasanah52360521', 'kobybran2013', 'Xueli94250579', 'JosPabloSojo1', 'Bitchjuststoply', 'BeenthereQ', 'ShpigelRon', 'Blurt_Truths', 'Stayawayfrome4', 'Denise14131456', 'SmithTiaka', 'neala98240122', 'lalruot', 'BeyaertL', 'ryan_celia06', 'hilda_chadwick', 'Melissa83006225', 'eduardzamarro', 'O1Omed', 'MartineHuslig', '3pUkGNl4FfwDSoP', 'AlexFue93690034', 'donovan_saldana', 'Bongiwe03676197', 'garradunga1', 'Dengey7', 'donnierhee928', 'kevincermak', 'arandomuser75', 'COVERGIRLSEARCH', 'NguynLVi16', 'bigrobt1978', 'asloms37', '7Haifaaa', 'Babak_93', 'Ty05049315', 'bob51786990', 'April10802581', 'PatSimp60796128', 'HaeinVL', 'SirKandjii', 'JenniferBeale17', 'SavvasSavva2000', 'bitchshall', 'AMalik14540547', 'John_Parker173', 'ziseko2', 'Datanovel1', 'yteaq', 'mikesilva1971', 'FlemingReadar', 'hooj1200', 'RamalloDariel', 'nordicstawed', 'Jaswind96898757', 'joeyorhso', 'trent37706926', 'SAC5180', 'neverose_20', 'christophecapu2', 'Fuk_luv_mk_war', 'KristenEdoria', 'Roberto63836498', 'Uchenna91296513', 'sary63823568', 'ozgreaves_4', 'e37477f1147f43d', 'vlnewsjp', 'KalSalama', 'luisrobertoadan', 'sticky2g2', 'littlesatyress', 'churdyp', 'NeyCont', 'rutang5', 'saaadia2005', 'annamarielpt', 'thuurz1n', 'marin_francesco', 'ClemensL8', 'raphaeel_melo', 'WSheep228', 'Nancy89887093', 'SSSoumen5', 'SirojiddinBakh2', 'nrobison84', 'ToryPreston7', 'Mari52814595', 'kyle76077620', 'd_bdjs', 'Antonio89062985', 'floating_name', 'isadora55340119', 'deXcellentio', 'jmweedall1', 'mannythanks77', 'blu_ju', 'hoangng52813953', 'ivy92544236', 'dawenska', 'Arad49337708', 'W2ln_', 'nicolas_piper', 'turlzn', 'Gabriel50269564', 'MattTra67968042', 'NguynHi34937558', 'J8536782088', '123adgjmptwxyz', 'Helena20356448', 'ahmahin', 'SahlUsef', 'Orangevisions', 'tsxyzyxy', 'DonnieGrabbin', 'NINAZHO62845444', 'buckle_alie', 'KaitlynFleck', 'OfNewkind', 'sarahmccorkle', 'WyattBlaine3', 'RonaldSRui1', 'hhggffrrttaa', 'tepergonp', 'juan_iten', 'OnurGms5234', 'lin98776', 'murraycaraa', 'Jacinthe63', 'MastafaHakem', 'BlomdahlDennis', 'Patriot02839426', 'PaulJon15301529', 'BrandonReiche11', 'BWinderbaum', 'milos_kuruc', 'Sherwyn4real', 'psaghafi2', 'haru_2202', 'Spstarrr', 'LatskyNico', 'JerryEichner', 'kevinhinklejoyo', 'valekfromthenun', '1960Campy', 'KayyDuhh92', 'beerandbees', 'usaless', 'hanialgead', 'Yoonie68512489', 'SheccidGm', 'Ammar27980670', 'NathouRafael', 'Hollowwizard', 'XShDfTxOdBtxZeS', 'melissa64073303', '7v84n', 'fermata_mh', 'AnnaTheyKnow1', 'goldenchild2171', 'AkshanthGunda', 'AFRAH202011', 'Festkommietee', 'MatteoSarica', 'Moe40923916', 'Haiden57558592', 'Po1iticsToday', 'KmBadass', 'alisonmjohns', 'Randa90134100', 'rumannnnnnn', 'MGarcia305', 'calli_karischh', 'BrinttainNoah', 'Alisha_181330', 'Jgraham7728', 'CraigScodellaro', 'I_Refuse_2Lose', 'rolfchristense7', 'DlQ1kQ3q71aHaVE', 'hro_nik', 'Ty1tSmb', 'Patrick44716848', 'iqbal_kakar12', 'ChaoticRemedy', 'ThomasVrang1', 'livrose242', 'thevilman', 'TeriTheUnicorn', 'youjustgottadr1', 'GviliRafi', 'megggypants', 'acquintas', '7777Rahel', 'ty_kinsey', 'kyndra_rose21', 'mustang66kd', 'LethientrngBui1', 'Mira4206', 'FranciscoPugl17', 'paradoxreport', 'm3l1naaa', 'Claudia54490586', 'Roberto43527290', 'JudyMoyer12', 'TaraRamkhelawan', 'suseguridadec', 'hellotwittle', 'wandersimarinho', 'GreetDeCock', 'WoleOjo6', 'charlotte_veith', 'BDulaime', 'paoleonv', 'shize235', 'MartineAerts3', '328nacatona', 'lendrioplay2', 'PlasmaFusionya', 'Rabcandy1', 'N00B_KiD', 'j_puckhaber', 'Emilia21818584', 'angelyuen861', 'ashton01467752', 'XiuhongW', 'LeahJam49455480', 'EricKrahenbuhl', 'VapedubaiL', 'NTBicxJBAygDd7Q', 'DymentTracey', 'imibra122', 'jodell2680', 'Rajveer44025214', 'andreapicco95', 't1JfgCfMGwjJp2F', 'Futures3', 'Ekene03224275', 'Athanos42', 'kannbrandon1', 'akdelis', 'TonyCol76344670', 'AGamecock4Life', 'yaguardboi', 'paris_heather', 'EsthersCall1', 'dayenamu', 'french1_tim', 'ShadrickHeather', 'JonasGeiger7', 'HuypZai4', 'ryzeeprivate', 'nozy_nozian', 'VickyAn95871133', 'mbhaney', 'SingingGarden', 'AmPromax', 'NunesBruno7', 'MehrdudeMusic', 'PuraAnnikki1', 'vennylopesdl', 'bhsilva7348', 'lo_bluch', 'CarloPascucci', 'MelindaHaithco1', 'CaioQue74969403', 'm97025867', 'HumansHonest', 'Onyeka122', 'burkearndorfer', 'Shrew99244675', 'lalosimpson9', 'YoungDanzz', 'Nauchaur', 'wraggy_uk', 'hi50551485', 'YassmineJaafari', 'MuchoMeters', 'x3lD9Ejdh3FenCZ', 'MartinL37227128', 'Gabriel98806308', 'F_bnt_T', 'mart2811', 'agreenie8', 'hatoothekind', 'jobyhwh', 'Oz_Lifestyle', 'zell12up', 'muhamme45069448', 'JenMcGhee', 'BrSKHJrMk06qQrZ', 'drugdjura', 'QuangVi49425984', 'carrie_msp', 'themithunraj', 'shannonehoward', 'Mimi57597796', 'darla_bok', 'hannah_tuck03', 'ahhmmed2050', 'JulaSifezekile', 'SmallRobotArmy', 'AshleyNathanR', 'StalinPrez6', 'MrsStilinski16', 'TomekaW28', 'sho470', 'barbara_carvill', 'asd0701005', 'awa_thioub', 'geziename', 'happi_99', 'DiscardFile', 'abdurreb', 'genovese_emily', 'jb53945919', 'AbdulaiOthman', 'qk76595232', 'KarenHo06933013', 'dessa73019585', 'trakovsky', 'Br1972Daredevil', 'ThatBlunt_Man', 'ALAMR33376962', 'johntrammel1', 'rekord988', 'MohamadMkB1', 'noinoi_noipy', 'm2neff', 'delaneysdavis', 'dYW3vhoHNS7bDqV', 'PatriciaLontine', 'HHladick', 'Marroquinruben', 'Leigh36365025', 'mrymzzs', 'erin_havlik', 'flgirl761', 'livinglucky54', 'StevenHWithrow', 'EuronyThe', 'Aliyumringim', 'samankamal99', 'SherylJ07157724', 'mnhhng91377001', 'ShaunPonsonby', 'BettyWi58215521', 'MaryLouMacKinn3', 'GANESHAGATES', 'oldanddull', 'AMajchier', 'kellymckinley4', 'DSRamsbottom', 'Thulfaqar11', 'Creating2inspi1', 'LoukThole', 'DPondRN', 'marlacita', '09huan', 'youngmaku', 'bogaert_gary', 'Leandro25423156', 'RobertS38759207', 'tk0807420', 'chasemauler', 'ValteleiB', 'MarvMalone', 'Mukesh43420299', 'MarianJacob17', 'ChastityHuneyc2', 'ramin84470528', 'Trung22039283', 'Lilian42293408', 'JacobWa07199892', 'Alexandrepuc', 'Obirama2', 'MARK33204995', 'vwa_wy', 'kaue_schmitt', 'gustafbroms', 'sher293yahoocom', 'greg_hatherly', 'yamenbk88', 'elilavear', 'PearlynTan6', 'KhomotsoM15', 'Dn_Dn_1', 'sandaye2', 'Burntoutvagabo1', 'WhisperFireBird', 'SusanNo74550731', 'sandropancho78', 'Ralf10396575', 'Antonin_117', 'KarinaK94', 'angella64976554', 'nayeskaaranaga1', 'Denise73866543', 'Bill08908196', 'BadihangR', 'EKanwaye', 'dontblameme201', 'AhodBig1342', 'Eleni_Bilmpili', 'miachkar', 'RhysGre21705351', 'CarmenS93580871', 'ChrissersLamo', 'DineshC56099368', 'billy_bounty', 'jhannon710', 'NELSON75690385', 'Karniolga1', 'andreabgebhart', 'HOSSAM60859696', 'celebrity_joe', 'BaranieSarma', 'CH43623158', 'NabeMamady22', 'jesmyluck570', 'T3ss16', 'blazar4', 'dongwihtout', 'mehdihosseinz11', 'a93245557', 'trailerotoko', 'judith12105423', 'Namson48608943', 'Josiah03176741', 'grace93863957', 'leahisshort', 'PaulAbb91982807', 'DCamotti', 'KHEN257', 'Philippemanieu', 'ismailtahire', 'Riley_Warn', 'VaderPat', 'Deven41094689', 'Abbriana6', 'green122333', 'Caphorn62', 'Lilsong14', 'gaby75492334', 'Fabbl4', 'Esther99515357', 'timbucktoo14', 'YiShan05061366', 'HotnerJulia', 'hnguyenn95', 'sylvluck', 'ULvBwKxleSqX2Iz', 'BuchfellnerF', 'wash_trevisan', 'jcacres', 'Dan41736651', 'Liam22129892', 'srpskimetal', 'youness_amg', 'EdwerdMark', 'realvishalverma', 'GacadTia', 'AngelaV02804735', 'izzatifmegan', 'teffjaylor', 'HILKIAHBARZILL1', 'KyleW49255713', 'David76780377', 'theresa7021', 'oliviacassandre', 'remisteri0', 'wondermovement', 'FeliKhiangte3', 'Hoornweg', 's6_3z', 'AhmMusaa', 'BordinCo', 'Tombear64908671', 'WojciechSajdak', 'AlicevanLiemt', 'janepetra8', 'LL2qxa8SnthWyst', 'Broookewonders', 'Abbeys11', 'CGattas', 'k5X6SOZBiROmn8R', 'mengedenge777', 'egroberts1', 'Shillah03885196', 'Ula28035086', 'ZMachutova', 'amoon_85_', 'Porfiriori1']\n"
     ]
    }
   ],
   "source": [
    "# create empty list\n",
    "TrumpFollows = []\n",
    "\n",
    "# screen name of the account to be scraped\n",
    "screen_name = \"realDonaldTrump\"\n",
    "\n",
    "\n",
    "# getting only 30 followers \n",
    "for follower in tweepy.Cursor(api.followers, screen_name).items(1000): \n",
    "    P = str(follower.screen_name)\n",
    "    TrumpFollows.append(P)\n",
    "\n",
    "print(TrumpFollows)"
   ]
  },
  {
   "cell_type": "code",
   "execution_count": 6,
   "metadata": {},
   "outputs": [],
   "source": [
    "# define pandas with information - put this early in the script\n",
    "Columns2 = ['tweet','date','id','following', 'handle']           \n",
    "DATA_Trump_Follow = pd.DataFrame(columns = Columns2)"
   ]
  },
  {
   "cell_type": "markdown",
   "metadata": {},
   "source": [
    "Create a loop mining tweets from each follower"
   ]
  },
  {
   "cell_type": "code",
   "execution_count": 7,
   "metadata": {},
   "outputs": [
    {
     "name": "stdout",
     "output_type": "stream",
     "text": [
      "13865\n"
     ]
    }
   ],
   "source": [
    "for redneck in TrumpFollows:\n",
    "    # screen name of the account to be fetched \n",
    "    screen_name = redneck\n",
    "    \n",
    "    Tweets = 50\n",
    "    \n",
    "    try:\n",
    "        # fetching the statuses \n",
    "        #statuses = api.user_timeline(screen_name, count = NrTweets) \n",
    "        for status in tweepy.Cursor(api.user_timeline, id = screen_name).items(Tweets):\n",
    "\n",
    "        # printing the statuses \n",
    "        #for status in statuses: \n",
    "            tweet = status.text\n",
    "            date = status.created_at\n",
    "            ID = status.id\n",
    "\n",
    "            DATA_Trump_Follow = DATA_Trump_Follow.append({\n",
    "                'tweet': tweet,\n",
    "                'date': date,\n",
    "                'id': ID,\n",
    "                'following': \"Trump\",\n",
    "                'handle': screen_name\n",
    "            }, ignore_index=True)\n",
    "        \n",
    "\n",
    "    except:\n",
    "        pass\n",
    "\n",
    "print(len(DATA_Trump_Follow))\n",
    "DATA_Trump_Follow.to_csv(\"Trump_Followers.csv\") "
   ]
  },
  {
   "cell_type": "markdown",
   "metadata": {},
   "source": [
    "Now We scrape tweets from Biden's followers"
   ]
  },
  {
   "cell_type": "code",
   "execution_count": 8,
   "metadata": {},
   "outputs": [
    {
     "name": "stdout",
     "output_type": "stream",
     "text": [
      "['scottcwalter', 'TabithaShriya', 'Bigger_Than_Lif', 'marcsisoroure', 'wondu14650564', 'daddycubchoo', 'MeaganFlanaga14', 'JakeM1718', 'kellyandfran', 'nour62352298', 'Andress55582226', 'mukti_rajput', 'kharri35', 'dayton80802633', '9c8bb47adbd64b9', 'bouchta_med', 'DKhansafi', 'Tim31310433', 'LuluGalindo6', 'Shovo62592368', 'Lynn_Orchard_', 'LamyaiYoosuk', 'Aditya4127', 'ThenEnver', 'ernie6090202', 'MiriamBott9', 'Rayy2Clutch', 'VedatYurdusev', 'Oluwabu32424723', 'RebeccaSandmey2', 'DevGaywala2', 'BevMissP', 'paulmbasile', 'DavidHo12724792', 'smbukhari786', 'egore215', '145891458914589', 'anadalata', 'BknHavva', 'ProfAndreaUF', 'Serenit14542449', 'DeDonUNION', 'CooperSeipp', 'TrustDigitalMa1', 'Owen7798', 'ElisMcwhyte', 'madamssr', 'AmericanSloth50', 'sayer_nikki', 'Sly76524230', 'emmazement', 'istanbuldrifter', 'Mies98651478', 'EmaMatte79', 'kish_roshan', 'rch_1211', 'readyCTED', 'IbrahemSheashaa', 'Jroupret', 'N1ck_N1ck', 'lory_cantinol', 'marissaaaa21', 'lichius7', 'meganellenmcgee', 'MananKamalQure4', 'IsraUzZaman', 'pr_asp', 'LeonardoNYC', 'TayWright4', 'SujanPa73382597', 'JohnHas82678385', 'Louis_Ryan_', 'FGarmo', 'thtwontsaveus', 'Bossbaby002', 'chimamichinunu', 'Mariana71743456', 'MUHD1110', 'tE0DKJaf21XSFDO', 'Jukka92951703', 'DivekarGirija', 'NyyButterfly', 'Obsequious91', 'SpringFlowers4u', 'NadaMam26335638', 'fIuxandflows', 'Margaritarm_', 'Suresh18459102', 'JniorChaves1', 'jetsol', 'trilliman2', 'Deepredvoice1', 'lmanny25', 'guggenheim_lily', 'EMurray13_', 'Debashi13118076', 'ejeioeiwgwuo', 'TracyCa42199562', 'LoneAshraf17', 'jdodgers123', 'soyoscarsteve', 'NeitiMarple', 'BsFinancialSer1', 'sheikharif0786', 'RoyaleSimrxn', 'Tray76610111', 'GardnerArabelle', 'DReed_11', 'DieudonneDjonna', 'elizxbethxnn', 'HFqi6coapzo6oz9', 'iamteejay', 'HarshalPradhan_', 'princess_noussa', 'KatMarLouSmi', 'Anderso29475856', 'Frankli13258137', 'DEBRAINT', 'FazlaniFarhan', 'therealalste', '0x1452', 'KimHyldahl', 'Ana93521220', 'AknSyhms', 'kishu300398', 'ssss020900', 'Renata21426080', 'vnessers', 'moleabbey', 'BaldeMamadouKa4', 'grandmaambury', 'BrookieRankin', 'miccasukee1', 'PersonaSynt', 'deruark', 'jacquel13807311', 'NinaDrapacz', 'minjunoooo', 'Barbara28409344', 'hamisi_kayo', 'ParkerStiven', 'morteza34531588', 'abomoed', 'Patrisse17', 'EsarotMd', 'DSCycler', 'BPhousta', 'Silvia_g_', 'KhanSadry', 'MBJ14613856', 'mdmahmu40216151', 'Philip93086960', 'om_youssef111', 'Simona89558436', 'SkylarRiddle2', 'gadekarnitesh', 'Marie05773674', 'KalibaAmber', 'AngeliHolmstedt', 'JHONNY21103120', 'EileenM20289908', 'AParris1', 't_tfrom', 'RebelTatum', 'BebaTovar2', 'Adelekeyoungmo1', 'H1s_Addiction', 'birdman884', 'FeeFiFoFem', 'HossamA96182150', 'Ikapilchoudhar1', 'gryder78', 'licdaxar', 'mameen204', 'niteshh_t', 'krishbpillai', 'Mathias30064459', 'AyariHeba', 'ElijahJ76205389', 'Michael68319103', 'bonsingb', 'KyawTunShin3', 'ANDREI11382856', 'januri34593374', 'MitzvahMike', 'Cyzer086', 'AhmadinNabat', 'nikk_iedee', 'jomtastic12', 'NitishSharma_94', 'CoralFernando6', 'Ronneycheruiyot', 'camobryan08', 'kabshina1', 'glblattention', 'Nikolai19170354', 'dcharleslocknut', 'Huldaamandaaa', 'Turk8432', 'hansaram626', 'LutfurR15576355', 'RewsterWanker', 'TheBarrbarian', 'Meskere64565503', 'anisgifu', 'Sarahsasoo25', 'drmickyID', 'JerssyAlvarezAc', 'TheReal_Deckard', 'Eozkan8Eozkan', 'PandaSkinJacket', 'waytoYeo', 'ThanhTh54748428', 'Lala10424665', 'Bando6man', 'vivgaudet', 'CHUCKBA69303702', 'EthanBailey1998', 'VictorGarci1206', 'AdamFrancisco16', 'aaronclouse4', 'Tatiana99691631', 'ustijusti', 'manal_majid', 'Kittanon1991gm1', 'juliaa_rfs', 'IamewaS', 'carolinesofien1', 'Nahjatk', 'angela_kristene', 'mtmillennium', 'beccaivy', 'Gbroca_7', '9LjcL72D0Jjalm1', 'chefcristoball', 'Antonio_Dini_', 'Davoquezada', 'LBleich', 'gergo_sebestyen', 'FredBertinoMD', 'ashishgosavi_', 'terftrap', 'DuceSoul', 'JBurch513', 'DarwinR02403555', '1realKh', 'AnneBur50416353', 'EnMuluk', 'shakil78680', 'trevor76203211', 'calebkogo', 'JaniyahHarvell', '0n3iro', 'jurgis_klim', 'LeissMoreno', 'ECRRnetwork', 'jeremy29172604', 'fishisland', 'rahkr1', 'MoonlightHaylee', 'ChileBean15', 'aandiea', 'BozkusAbuzer', 'onoitsonami', 'Sara23504493', 'JimmyDi14816758', 'OliviaCoombes23', 'adill_mohamed', 'Alpha_963', 'adrian62311907', 'TheBryanBravo', 'Rockybansal15', 'ChristeneJaz', 'CaseyLa44176578', 'Yajaira07883976', 'hannucha1', 'peonypeacock', 'history_proud', 'dme_tv', 'VanesaR34168441', 'PlanetCreativeS', 'IsaSaniAbubaka1', 'taimurayaz', 'Mido40497708', 'TheOnly15102396', 'alxhoera', 'someoneis_not', 'nesdagor75', 'urgirlsisugly', 'NasimChow1966', 'CristianoVill19', 'ndidiflora', 'emily02900909', 'noCoupsForUS', 'MFeogat', 'tamilcheff', 'JyjSaber', 'sarahk636', 'rhiannamater', 'hbendini', 'Nishad88017253', 'DawsonNichols1', 'Dinuli15', 'Patrici85167971', 'kelzd1017', 'mathschillinger', 'ahish_moon', 'JoshMor74726665', 'ChristianAroc15', 'claudiabcruzado', 'MohdAas51803501', 'DouglasMalingu', 'MerolaErika', 'chefheidiLA', 'k0k0_techie', 'PhineasStreet', 'ChrisSongs6', 'mdanielmiller', 'mainelyhoo', 'Pal_Are', 'ZsuzsannaBencz2', 'ChiericiAlberto', 'IngoTheismann', 'SwathiRajagopa1', 'sambooo0', 'JoseAntonGa', 'SkhulileNdlela', 'nishantkumarman', 'chrissi_129', 'Amanda81338704', 'alfredopulido7', 'RexVex5', 'evanprocknow', 'inno_francis', 'Rafael66520029', 'Dorselfin1', 'aadilahismail2', 'WolanskiLisa', 'tiel_marcel', 'amphiprions', 'Melanie12492029', 'ManoAlbuquerque', 'Taaha10640411', 'Karmo46', 'Martine45020142', 'ste_midge79', 'Lucero55127262', 'mpilo_lindo', 'marilene17bsb', 'South3rn3r', 'thepopeman1', 'OverweighArslan', 'ryanqlf4', 'Ross50299183', 'kaylahater2', 'RUHULAM19502303', 'ImranAl10556589', 'sheejos1987', 'frarodriguez122', 'thepoet59', 'F3tox7FxPIu6XPH', 'wholycrow', 'BrendaSanchezS1', 'AlemanJodi', 'mariannemarave', 'TakudzwaRafemoy', 'emmanubiodun', 'CoelloKara', 'GuzmanJoross', 'KellyWilliams7', 'spicyeyebrow', 'Jaynieu3Avon', 'chrldamello', 'khaledakhanfar2', 'haarif4', 'Nyakaunda2', 'GregDietzenbach', 'ClaserJoseli', 'PoupinJules', 'ElvinJo29900633', 'CypLucky', 'sarv_awesome', 'Louismarsha', 'andrubii', 'andrew_m_k', 'xYrSenpai', 'Cameron43838204', 'ZzSamuelzZ_', 'Shaunte62905937', 'ZakariaAlwajeeh', 'EndangeredMoron', 'sui_sii', 'Lutho40263256', 'RecueIdee', 'SanFanQZ', 'Othy62', 'vzhamza', 'GulsevenOzkan', 'RKomaraju', '__dxnielaa', 'S_Hillenbrand', 'khadiga_abobakr', 'JABC14068687', 'magichawk3416', 'Turan45130677', 'ybplayer', 'TraversUK', 'misss_tory', 'YangyaOdila', 'Samoguns_1990', 'RamVarm55317231', 'zaemaraj', 'KosgeiPhilips', 'Gomaa12165161', '75805404G', 'Yuucaate', 'cuteprune_', 'MathieuRaymond4', 'raphael49046674', 'Somoa12', 'Rifat17542053', 'CraggsMegyorky', 'boy8212', 'Twibster1', 'abdul_mateen_20', 'Aqeel_Shar', 'dev_bhatt43', 'mayank_Jugran', 'Wilsonevan3', 'angelahemby', 'Someone39114535', 'MDRobin98528238', 'InfoCatcher87', 'ScarletAzriel', 'JDavidMall', 'DougLifts', 'Sofia03905597', 'HmrToe', 'AlishaAmjad6', 'f2Dcwr84r4HjEJP', 'salim30182259', 'Wq7mA9htr0LDkHI', 'dunklertoastyx', 'KayEllleKay', 'notyourmombrey', 'ErbeHelle', 'Moose54685916', 'Savanah76222838', 'jtondatrackk', 'Morly_pog', 'R3latable6', 'CathyLouise113', 'masterlickin', 'FabianBerlin85', 'RJoshi551', 'Farzad77825575', 'smurfnturf2', 'iamzinahabibi', 'shadaba41111498', 'Michell80088929', 'OjarTitus', 'moneybagdream', 'ChillingBoy_', 'Migetshooter', 'MissJacquiD', 'sahb78', 'irshadamani90', 'IamRaviPraksh', 'tosaled', 'EdcaroV', 'FabianMarmolej3', 'Americo15842206', 'spambait', 'poakeshott', 'bltg', 'Kiss82408850', 'MylesRevolution', 'JaiswalVivek3', 'MendteMarilyn', 'BillJen21756073', '75363bb20770470', 'rd73', 'ShaunSm96863492', 'jmarsh304', 'abdu40809989', 'JulieTr05841352', 'marcal_mena', 'IlhemGoulli', 'Iam_Quintessa', 'sureshk55785053', 'AyudaMeme', 'UditanshuPratap', 'after_life', 'TaylorBursch', 'duha_fg', 'FiNeko5', 'yumei_shao', 'NittyOso', 'Lenous_17', 'HusainMalkani', 'Johnwatson_96', 'fix_damn', 'Rosemar65773642', 'vadimcaen', 'LailaOliveiraR1', 'jotaviocorrea', 'moevepaska', 'oxylovestanning', 'emreyilmaz361', 'Bend4Change', 'y7z1iRG9mQk44iP', 'Alyssai_', 'sandra_aviles1', 'LeneJeppesen5', 'ettiengeorges4', 'arnavku41179213', 'BassemH95694674', 'DialloM23052291', 'Mamaedoapollo', 'lindaogeka', 'JarousekJelinek', 'JHoeflinger', 'xmsjh', 'nicocampos11', 'HearMeHearThem', 'mola_kano', 'AbdramaneFoull2', 'DanielKazimoto5', 'LuisAngelGreer', 'Captian_Anarchy', 'TheakerJamie', 'Kachi38304072', 'lsv2r', 'CaseyYan17', 'JeremieSamora', 'Dane34106099', 'johnnyarcia', 'edouard_dou', 'SajjadShah58', 'Siku43192947', 'DuchessofGrove1', 'Mohamme42159323', 'rv_027', 'KeybladMaster1', 'foxyfeme', 'SteffensenBrian', 'Luceesmom', 'MonteroBJ1', 'NayLottus', 'KigbuHaruna', 'CharlotteBryso7', 'YakaNilay', 'AnonIsConfused1', 'AnneFrijters', 'Shellywelly1992', 'Gosia98471059', 'christianaaco_', 'CEverid', 'Agustin_Ortega7', 'mnashem', 'Kevinguitarman', 'JasonMLawlor', 'VbertrandVictor', '_money_786', 'Lauren50134105', 'meganfurry', 'MustafaOkunako7', 'laqueen65083454', 'LisaWohlfeld', 'pnm1711', 'donfanelli', 'Mari34356407', 'YamboPhresh', 'MrEddiep93', 'uanwkyH5jZ9elEb', 'ElraiekLotfy', 'almasrey2005', 'AnandUrveen', 'DipuKumarVerma4', 'marafg35', 'Wende69430004', 'aseemjaseem', 'demon_kojo', 'SYLLAMa96341676', 'kadakes1', 'farshadmibasham', 'tptate', 'pena7_', 'Ibrahim09646405', 'ABODI12341', 'ainesf', 'Jlight69614579', '8Qnyb5Z2Wfw1ksJ', 'PierpaoloCroce', 'NDweggah', 'RyanRy7926', 'Tobilob92544559', 'emilypickrum_', 'ChandrasekarBo2', 'Venecia46709062', 'Mariet41752302', 'delaneyjkinne', 'MsTlane5', 'jagaddeeshh', 'AbdiNaj97027690', 'paulagonzzz_', 'OlisaRae', 'taylorleechap', 'apaulabsb', 'Matin91294413', 'Balajizurich', 'julierose6978', 'brankorokov', 'Johna85178922', 'nadanaas1', 'CourtMalort', 'Donna07635577', 'KhaledH43688608', 'frazao_artur', 'bglover2487', 'froslaag', 'nieseirving', 'seun_abere', 'kskdksjd3', 'KevinSisu', 'SingabiIntisar', 'cashangel2m3', 'HagosGebremar10', 'Beckyblues1', 'liveurlife2k19', 'Williamlopezpr7', 'John15285529', 'Mynani23', 'HabeebSuleima12', 'AnuarulHaque4', 'tadeu_ya', 'Kintu33074915', 'jugrvz', 'AfuaDenutsui', 'joeweiler23', 'em_tsuki', 'NiiDodoo20', 'HajeeKaashif', 'TheDanRdz', 'GosseNoppert', 'AmutuhaireIvan', 'ldmartinjr', 'PauloVi39300625', 'Santosh15386730', 'NilayKalita7', 'Marlen64228668', 'KellyMitchell', 'TeeMuhd', 'AbbiHillier', 'ldblackstar', 'Ywox3', 'luishkafer', 'songu_solomon', 'Onta_Magubi', 'ErasmeNiyongere', 'hisowntrumpet', 'Kamalu567', 'BenteStockler', 'Black59828197', 'malshehuibrahim', 'motteanemone661', 'TakeithaLynch', 'dmbcdn', 'KellyJo07899848', 'Vikramjittomar', 'SilviaMarisel11', 'ysmuygn', 'liisamajuri1', 'ObregoroV', 'Human6000Human', 'woangz', 'Data_Hoarder', 'emmanuelinno124', 'Turboxu5', 'MBrightling', 'j1998_hp', 'KaioMel10029230', 'JdotUsch', 'Chinedu39452541', 'flopqrs', 'lisseth_flowers', 'Patrycj14047341', 'mhL9Z8lO1p9MmwU', 'MarcoMlingwa', 'DanigerWilliam', 'karenwe36679721', 'kimeltanal', 'ReemMokhtar15', 'fradhie', 'JayBenn6', 'AhavaTero', 'rydorrin', 'mauryalallu1980', 'ShopTazeCo', 'themonetmassey', 'thomas_lugli', 'JojoSoggybelle', 'madhack', 'NatalySamara1', 'TedEMTP', 'HirenniRenuka', 'girl_pleasee', 'NihatGGK', 'LDoYFX7Va71WBJY', 'XavierDeLeon03', 'p0llyann', 'Aistis91756842', 'EnyunguJunior', 'mugiwaranowell', 'SufyanAliKhan14', 'Ojawbe2', 'KimJohn28253191', 'ISMAELM69637251', 'chaitukash79', 'Misspoo12', 'jiyamanjari', 'amberchannonja1', 'khushi_bhadani', 'ricksanchez2407', 'Selo24704', 'AmandaCasique', 'ADAlshaarani', 'warrenlicious', 'wilyfoxxxxxx', 'KobylinskiMark', 'Jasim61360708', 'maajikajee', 'soniak718', 'Jamelesschimch1', 'AngrejiiBeat', 'PattiZambelli', 'TheBrai44637078', 'HumbleRoots2', 'princeeid', 'Addoowusu5', 'MdRizonSikder5', 'cpshout', 'slogan9991', 'EmilyHohman3', 'MarciandreA', 'Rikmanone1', 'KaledeBen', 'HareendranathMA', 'Bhushan6288', 'Hamiid38832903', 'MarufZTOPRAK', 'Nasratu79076921', 'adamsirskiii', 'BrendaB31784439', 'aqeelsyakeel_q', 'SaeedIbnGeorge', 'ewawo', 'dsbid', 'AltonaRidjy', 'kassCasiano_', 'bucacah', 'patrici28840098', 'baanbijgemeente', 'Blackma76475072', 'croftsgillian24', 'robertkroy1', 'erencelebi07', 'PrestoTheMiner', 'marechalguy1', 'gcmazur', 'AdamEzz16', 'iamvprince', 'Sweetangel1912', 'JohnWic91578864', 'AnsariAriza', 'AutumnU13', 'Oferpap', 'Maroun44226034', 'LelenDaffodil', 'Jb1ks1', 'Skintymagoro', 'DavidBr77976262', 'KimasoJoseph', 'OrwaEric', 'AADuniya1', '0703933', 'Cristia16783276', 'AmolAvinashshi1', 'mun_yim', 'Jacob17559224', 'AkashSi07254816', 'Quesoss', 'AtuegbuPatrick', 'AbdalkneAwad', 'rahul8109', 'Bijaya_30031991', 'HamerMathijs', 'SoonerBrian1', 'RDMAUROSERGIO', 'SabrinaHeilig', 'messiahtawson', 'rtrev1984', 'RASHID8186', 'AliMarei17', 'Shambhavi_Rani', 'Tanya_LisaMarie', 'pkpgopu', 'ashleyplaceDDS', 'KajolGu76859418', 'el_galvon', 'BedfordKoreena', 'MusiimentaRAC10', 'ShashiniKalai', 'MillweeMindy', 'mdmrjn', 'MargaretElmor18', 'LeeandraReagan', 'lawjack247', 'Lulu86345030', 'grochanoronha', 'Moamr75301881', 'capgirl0902', 'Steinix', 'bill_bswanson10', 'DeejaySky15', 'katjalisabet', 'RlpWatson', 'vreeland_anna', 'Roelow2', 'Smithwo29186262', 'Bashirsandal', 'eatmonster1', 'Parvath19822782', 'honeysotoxic', 'CorinnaCandusso', 'damian01h', 'SOHAMSURVE9', '5sosgirllll2', 'Aurora24619871', 'ReyhanathTOURE', 'naderforprez', 'MDShahn60138889', 'Chiaretta_78', 'heyytrishyy', 'adhiguera', 'TammyWigley11', '2percentmilkfan', 'MorganOlami', 'srasheed50', 'memoflores33', 'PhilMountier', 'BrianaChelsie', 'CheveNdella', 'siwa_mzee', 'taparia_vaibhav', 'AxelleClaess', '3Yuixp', 'sergey_matkheev', 'callygrimes', 'mollyrenee1600', 'cemalergun07', 'cody_spitzer92', 'arsath_mhmd', 'LANGRISNUMBER11', 'DabriouT', 'gaard_rn', 'TwfekRamadan', 'AidanMcAteer3', 'strakolo', 'DELIFerdinand1', 'maherelbasha', 'FFMD188', 'cocolet007', 'VeRoNiCaAa06_', 'Braulio73840161', 'CJpbeacom', 'euphorseic', 'edytaziomek', 'JoanneO34965546', 'Zachary81850959', 'BashirSsengoob1', 'dewanggaekar', 'KatieHi62412171', 'NgaruiyaOnesmus', 'MawthamMusica', 'EDWINKI68896583', 'LouseeQO', 'GrusendorfK', 'MamtaniVanshaj', 'emurphy29', 'UmeshChandthak3', '_Calumah_', 'MomsriverTeresa', 'DrRick80130122', 'kielclaura', 'MPSA2013', 'Prettyflyx', 'MichaelRTan', 'JumapiliS', 'DanielTorggler', 'aboooppp13', 'Bunny40401', 'AhmadHa18360609', 'cecigam24', 'salomon_mak', 'carlee_w02', 'Harriet20971512', 'Richman27842726', 'MaggieTerrone', 'KawimbeMakasa', 'Grady76918314', 'hiziraslan2', 'CherylWimer', 'TabbyBreon', 'Ola75425494', 'that_allison', 'nadershahofiran', 'aidanjohare', 'Carlito97303986', 'thesweetkakes', 'FlorenceWakabi', 'VUTde3MjZgGmVGG', 'HemsinghMalviya', 'ErvikrantSharma', 'Element45758939', 'thechinmoymaji', 'PaisleyRossetti', 'deliciateo', 'EisDeann', 'labrador800', 'dianpil', 'ShyamSh66941050', 'betsybagsby', 'deuce4801', 'Msaad_Jnedo', 'PckMVbDlNO7Vw0E', 'tsstopa', 'seyithalilcand1', 'Wizardkiwi', 'MissJagger5', 'leftyblonde', 'Klammerama', 'NewarDlevrai', 'CrawfordMekia', '_mmam', 'iamgregoryjae', 'PRAVEEN83308389', 'Damian63628082', 'Padma174', 'JoanneE57608646', 'carlat54012430', 'RW99438742', 'jojopearlie', 'MamuLove18', 'winedrinkpapi', 'Samie_ro_shara', 'suryairawan4594', 'bacardiintheusa', 'the556655', 'mYiHXJIeTbznZ09', 'Victori88335576', 'EPHIBRAmoth', 'DrKihire', 'perezaliyahh', 'maynardtrevor7', 'flrtykoos', 'RedRatOfficial', 'Pajurr', 'kamlk321', 'Sunil04811934', 'Nicholas_Molnar', 'dr__gm', 'chlofish_', 'Djoby237', 'aldillorivas19', 'rebekka76052723', 'FeysMario', 'roygaurav', 'Adercy1', 'indurai1', 'kcc10coronell', 'Guissel27942472', 'nadinegoodison', 'SMaharukh', 'rebecca_callagh', 'kyyraaaaaaaaa', 'raven1986', 'tantrytantry2', 'JuanKi0321', 'GovenderDesan', 'ElviraLennert', 'vishkotecha', 'plex5500', 'g89544335', 'Ealdrert', 'Thandol01400202', 'ConFromSteFrm', 'La9671295941', 'thatboredgirl2', 'AdsjoJan']\n"
     ]
    }
   ],
   "source": [
    "# create empty list\n",
    "BidenFollows = []\n",
    "\n",
    "# screen name of the account to be scraped\n",
    "screen_name = \"JoeBiden\"\n",
    "\n",
    "\n",
    "# getting only 100 followers \n",
    "for follower in tweepy.Cursor(api.followers, screen_name).items(1000): \n",
    "    P = str(follower.screen_name)\n",
    "    BidenFollows.append(P)\n",
    "\n",
    "print(BidenFollows)"
   ]
  },
  {
   "cell_type": "code",
   "execution_count": 9,
   "metadata": {},
   "outputs": [
    {
     "name": "stdout",
     "output_type": "stream",
     "text": [
      "20497\n"
     ]
    }
   ],
   "source": [
    "# define pandas with information - put this early in the script\n",
    "Columns2 = ['tweet','date','id','following', 'handle']           \n",
    "DATA_Biden_Follow = pd.DataFrame(columns = Columns2)\n",
    "\n",
    "# Loop through them all\n",
    "for hippie in BidenFollows:\n",
    "    # screen name of the account to be fetched \n",
    "    screen_name = hippie\n",
    "    \n",
    "    Tweets = 50\n",
    "    \n",
    "    try:\n",
    "        # fetching the statuses \n",
    "        #statuses = api.user_timeline(screen_name, count = NrTweets) \n",
    "        for status in tweepy.Cursor(api.user_timeline, id = screen_name).items(Tweets):\n",
    "\n",
    "        # printing the statuses \n",
    "        #for status in statuses: \n",
    "            tweet = status.text\n",
    "            date = status.created_at\n",
    "            ID = status.id\n",
    "\n",
    "            DATA_Biden_Follow = DATA_Biden_Follow.append({\n",
    "                'tweet': tweet,\n",
    "                'date': date,\n",
    "                'id': ID,\n",
    "                'following': \"Biden\",\n",
    "                'handle': screen_name\n",
    "            }, ignore_index=True)\n",
    "        \n",
    "\n",
    "    except:\n",
    "        pass\n",
    "\n",
    "print(len(DATA_Biden_Follow))\n",
    "DATA_Biden_Follow.to_csv(\"Biden_Followers.csv\") "
   ]
  },
  {
   "cell_type": "code",
   "execution_count": null,
   "metadata": {},
   "outputs": [],
   "source": []
  },
  {
   "cell_type": "code",
   "execution_count": null,
   "metadata": {},
   "outputs": [],
   "source": []
  }
 ],
 "metadata": {
  "kernelspec": {
   "display_name": "Python 3",
   "language": "python",
   "name": "python3"
  },
  "language_info": {
   "codemirror_mode": {
    "name": "ipython",
    "version": 3
   },
   "file_extension": ".py",
   "mimetype": "text/x-python",
   "name": "python",
   "nbconvert_exporter": "python",
   "pygments_lexer": "ipython3",
   "version": "3.8.3"
  }
 },
 "nbformat": 4,
 "nbformat_minor": 4
}
